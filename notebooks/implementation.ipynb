{
 "cells": [
  {
   "cell_type": "markdown",
   "id": "58eb26cd-4db7-422c-a90b-c8af72656516",
   "metadata": {},
   "source": [
    "## IMPLEMENTATION\n",
    "\n",
    "In this section we will explore exactly how each API returns data of interest.\n",
    "\n",
    "We will look at how to obtain "
   ]
  },
  {
   "cell_type": "code",
   "execution_count": 1,
   "id": "51e13e83-5d09-4e67-be44-78914325a3dd",
   "metadata": {
    "tags": []
   },
   "outputs": [],
   "source": [
    "import pandas as pd\n",
    "import requests"
   ]
  },
  {
   "cell_type": "markdown",
   "id": "0f61d764-b3d9-4ee0-b01f-8913fb06e024",
   "metadata": {},
   "source": [
    "## OPENAQ"
   ]
  },
  {
   "cell_type": "code",
   "execution_count": 2,
   "id": "139e35f8-dcf4-487d-b3fd-ed5151dab579",
   "metadata": {
    "tags": []
   },
   "outputs": [],
   "source": [
    "oaq_endpoint = \"https://api.openaq.org/v2/cities?country=MX\"\n",
    "\n",
    "with open(\"oaq_cities_data_mx.json\", \"wb\") as fo, requests.get(oaq_endpoint) as r:\n",
    "    fo.write(r.content)"
   ]
  },
  {
   "cell_type": "code",
   "execution_count": 3,
   "id": "7a4c77ac-824a-4bc2-94a8-a1174540e84c",
   "metadata": {},
   "outputs": [],
   "source": [
    "oaq_endpoint = \"https://api.openaq.org/v2/locations?city=Mexico City\"\n",
    "\n",
    "with open(\"oaq_data_mexico_city.json\", \"wb\") as fo, requests.get(oaq_endpoint) as r:\n",
    "    fo.write(r.content)"
   ]
  },
  {
   "cell_type": "markdown",
   "id": "00da8b11-00f8-49b9-b609-2c09aebdf152",
   "metadata": {},
   "source": [
    "## WORLD AQI"
   ]
  },
  {
   "cell_type": "code",
   "execution_count": 4,
   "id": "83a05478-7e8e-4af3-bbf5-fbd935f2a01a",
   "metadata": {
    "tags": []
   },
   "outputs": [],
   "source": [
    "with open(\"waqi_key.txt\") as f:\n",
    "    api_key = f.read().strip()"
   ]
  },
  {
   "cell_type": "markdown",
   "id": "100839c6-46c1-4b75-9690-4217dbd8dfaa",
   "metadata": {},
   "source": [
    "**NOTE**: we will NOT assume the end user has these libraries installed, thus making this a usable and useful notebook, instead of one that will break when the requisite libraries are not installed.  We should also put this in a `requirements.txt` file."
   ]
  },
  {
   "cell_type": "code",
   "execution_count": 5,
   "id": "d4b9d0a2-7980-4b6b-8a3e-fa9c61fe3c61",
   "metadata": {
    "tags": []
   },
   "outputs": [
    {
     "name": "stdout",
     "output_type": "stream",
     "text": [
      "Requirement already satisfied: ozon3 in c:\\users\\kmaull\\appdata\\local\\anaconda3\\lib\\site-packages (4.0.2)\n",
      "Requirement already satisfied: numpy in c:\\users\\kmaull\\appdata\\local\\anaconda3\\lib\\site-packages (from ozon3) (1.24.3)\n",
      "Requirement already satisfied: pandas in c:\\users\\kmaull\\appdata\\local\\anaconda3\\lib\\site-packages (from ozon3) (1.5.3)\n",
      "Requirement already satisfied: requests in c:\\users\\kmaull\\appdata\\local\\anaconda3\\lib\\site-packages (from ozon3) (2.31.0)\n",
      "Requirement already satisfied: openpyxl in c:\\users\\kmaull\\appdata\\local\\anaconda3\\lib\\site-packages (from ozon3) (3.0.10)\n",
      "Requirement already satisfied: ratelimit in c:\\users\\kmaull\\appdata\\local\\anaconda3\\lib\\site-packages (from ozon3) (2.2.1)\n",
      "Requirement already satisfied: js2py in c:\\users\\kmaull\\appdata\\local\\anaconda3\\lib\\site-packages (from ozon3) (0.74)\n",
      "Requirement already satisfied: sseclient-py in c:\\users\\kmaull\\appdata\\local\\anaconda3\\lib\\site-packages (from ozon3) (1.8.0)\n",
      "Requirement already satisfied: tzlocal>=1.2 in c:\\users\\kmaull\\appdata\\local\\anaconda3\\lib\\site-packages (from js2py->ozon3) (5.2)\n",
      "Requirement already satisfied: six>=1.10 in c:\\users\\kmaull\\appdata\\local\\anaconda3\\lib\\site-packages (from js2py->ozon3) (1.16.0)\n",
      "Requirement already satisfied: pyjsparser>=2.5.1 in c:\\users\\kmaull\\appdata\\local\\anaconda3\\lib\\site-packages (from js2py->ozon3) (2.7.1)\n",
      "Requirement already satisfied: et_xmlfile in c:\\users\\kmaull\\appdata\\local\\anaconda3\\lib\\site-packages (from openpyxl->ozon3) (1.1.0)\n",
      "Requirement already satisfied: python-dateutil>=2.8.1 in c:\\users\\kmaull\\appdata\\local\\anaconda3\\lib\\site-packages (from pandas->ozon3) (2.8.2)\n",
      "Requirement already satisfied: pytz>=2020.1 in c:\\users\\kmaull\\appdata\\local\\anaconda3\\lib\\site-packages (from pandas->ozon3) (2022.7)\n",
      "Requirement already satisfied: charset-normalizer<4,>=2 in c:\\users\\kmaull\\appdata\\local\\anaconda3\\lib\\site-packages (from requests->ozon3) (2.0.4)\n",
      "Requirement already satisfied: idna<4,>=2.5 in c:\\users\\kmaull\\appdata\\local\\anaconda3\\lib\\site-packages (from requests->ozon3) (3.4)\n",
      "Requirement already satisfied: urllib3<3,>=1.21.1 in c:\\users\\kmaull\\appdata\\local\\anaconda3\\lib\\site-packages (from requests->ozon3) (1.26.16)\n",
      "Requirement already satisfied: certifi>=2017.4.17 in c:\\users\\kmaull\\appdata\\local\\anaconda3\\lib\\site-packages (from requests->ozon3) (2023.7.22)\n",
      "Requirement already satisfied: tzdata in c:\\users\\kmaull\\appdata\\local\\anaconda3\\lib\\site-packages (from tzlocal>=1.2->js2py->ozon3) (2023.4)\n"
     ]
    }
   ],
   "source": [
    "!pip install  ozon3"
   ]
  },
  {
   "cell_type": "code",
   "execution_count": 6,
   "id": "363a83a7-5ab2-4bc7-86bd-f98496117795",
   "metadata": {
    "tags": []
   },
   "outputs": [],
   "source": [
    "import ozon3 as ooo\n",
    "o3 = ooo.Ozon3(api_key)\n",
    "\n",
    "station = (19.334,-99.182)\n",
    "data = o3.get_coordinate_air(*station)"
   ]
  },
  {
   "cell_type": "code",
   "execution_count": 7,
   "id": "8f7cf8c6-328f-4171-996e-e1267517379b",
   "metadata": {
    "tags": []
   },
   "outputs": [
    {
     "data": {
      "text/plain": [
       "Index(['city', 'latitude', 'longitude', 'station', 'dominant_pollutant',\n",
       "       'timestamp', 'timestamp_timezone', 'aqi', 'AQI_meaning',\n",
       "       'AQI_health_implications', 'pm2.5', 'pm10', 'o3', 'co', 'no2', 'so2',\n",
       "       'dew', 'h', 'p', 't', 'w', 'wg'],\n",
       "      dtype='object')"
      ]
     },
     "execution_count": 7,
     "metadata": {},
     "output_type": "execute_result"
    }
   ],
   "source": [
    "data.columns"
   ]
  },
  {
   "cell_type": "code",
   "execution_count": 12,
   "id": "2d32cb78-a2b5-4c2e-a2b6-d8cfc54cc90a",
   "metadata": {
    "tags": []
   },
   "outputs": [
    {
     "data": {
      "text/plain": [
       "(0    95.0\n",
       " Name: pm2.5, dtype: float64,\n",
       " 0    2024-01-11 11:00:00\n",
       " Name: timestamp, dtype: object)"
      ]
     },
     "execution_count": 12,
     "metadata": {},
     "output_type": "execute_result"
    }
   ],
   "source": [
    "data['pm2.5'], data['timestamp']"
   ]
  },
  {
   "cell_type": "markdown",
   "id": "46f9f079-37c6-40d3-8285-7c973ad001f9",
   "metadata": {},
   "source": [
    "## Compare measurements\n",
    "\n",
    "Because the city is empty, we might want to know if we are\n",
    "looking at the same station.\n",
    "\n",
    "Let's compare the data to find out -- if it is the same station \n",
    "(maybe) the data will be the same."
   ]
  },
  {
   "cell_type": "code",
   "execution_count": 9,
   "id": "c641482f-2a92-4329-b28f-fb6950a58199",
   "metadata": {
    "tags": []
   },
   "outputs": [
    {
     "name": "stdout",
     "output_type": "stream",
     "text": [
      "{'location': 'SPARTAN - Mexico City', 'city': 'Mexico City', 'country': 'MX', 'coordinates': {'latitude': 19.334, 'longitude': -99.182}, 'measurements': [{'parameter': 'pm25', 'value': 26.9, 'lastUpdated': '2023-05-31T11:00:00+00:00', 'unit': 'µg/m³'}]}\n"
     ]
    }
   ],
   "source": [
    "oaq_endpoint = \"https://api.openaq.org/v2/latest/1285351\"\n",
    "\n",
    "with requests.get(oaq_endpoint) as r:\n",
    "    print(r.json()['results'][0])\n",
    "    # df = pd.DataFrame.from_records(r.json()['results'][0])\n",
    "    df = pd.json_normalize(r.json()['results'], max_level=1)\n",
    "    df_m = pd.DataFrame.from_dict(df.measurements[0])\n",
    "    \n",
    "    df = pd.concat([df, df_m], axis=1).drop('measurements', axis=1)"
   ]
  },
  {
   "cell_type": "code",
   "execution_count": 10,
   "id": "6b15d132-7a8f-455a-83ac-9d693ab29b15",
   "metadata": {
    "tags": []
   },
   "outputs": [
    {
     "data": {
      "text/plain": [
       "0    26.9\n",
       "Name: value, dtype: float64"
      ]
     },
     "execution_count": 10,
     "metadata": {},
     "output_type": "execute_result"
    }
   ],
   "source": [
    "df['value']"
   ]
  },
  {
   "cell_type": "code",
   "execution_count": 11,
   "id": "5855fac2-198b-4370-b0c5-9c09e9f7ef3c",
   "metadata": {
    "tags": []
   },
   "outputs": [
    {
     "data": {
      "text/plain": [
       "0    False\n",
       "dtype: bool"
      ]
     },
     "execution_count": 11,
     "metadata": {},
     "output_type": "execute_result"
    }
   ],
   "source": [
    "df['value'] == data['pm2.5']"
   ]
  },
  {
   "cell_type": "markdown",
   "id": "1a2e57b6-4dbc-4405-82ce-c36b6799213a",
   "metadata": {},
   "source": [
    "These things don't look the same.  Our analysis is done. $\\Xi$"
   ]
  }
 ],
 "metadata": {
  "kernelspec": {
   "display_name": "Python 3 (ipykernel)",
   "language": "python",
   "name": "python3"
  },
  "language_info": {
   "codemirror_mode": {
    "name": "ipython",
    "version": 3
   },
   "file_extension": ".py",
   "mimetype": "text/x-python",
   "name": "python",
   "nbconvert_exporter": "python",
   "pygments_lexer": "ipython3",
   "version": "3.11.4"
  }
 },
 "nbformat": 4,
 "nbformat_minor": 5
}
